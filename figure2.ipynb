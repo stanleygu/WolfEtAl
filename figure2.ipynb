{
 "metadata": {
  "signature": "sha256:ab26cdb819d5cba30dff87d1db87de784bb0fa45fd145cdc394bb97f5a190930"
 },
 "nbformat": 3,
 "nbformat_minor": 0,
 "worksheets": [
  {
   "cells": [
    {
     "cell_type": "code",
     "collapsed": false,
     "input": [
      "from scipy import *\n",
      "from pylab import *\n",
      "\n",
      "f = lambda x,r : r * x * ( 1 -x )\n"
     ],
     "language": "python",
     "metadata": {},
     "outputs": [],
     "prompt_number": 2
    },
    {
     "cell_type": "code",
     "collapsed": false,
     "input": [
      "rlist = linspace( 2, 4, 800)\n",
      "X = [ 0.5 * ones_like(rlist), ]\n",
      "for i in arange(0,10000):  \n",
      "    X += [ f(X[ -1], rlist) , ]\n",
      "    \n",
      "print X"
     ],
     "language": "python",
     "metadata": {},
     "outputs": [],
     "prompt_number": 3
    },
    {
     "cell_type": "code",
     "collapsed": false,
     "input": [
      "\n",
      "X = hsplit( vstack(X[-2000:]), rlist.size)\n",
      "from scipy import stats\n",
      "H = map( lambda Z : stats.histogram( Z, defaultlimits=(0,1), numbins=300 )[0],X)\n",
      "H = map( lambda Z : 1-Z/Z.max(), H )\n",
      "H = vstack(H)\n",
      "figure()\n",
      "imshow( rot90(H), aspect = 'auto' , extent = [2, 4, 0, 1])\n",
      "bone()\n",
      "xlabel('r')\n",
      "ylabel(r'$X_{n \\rightarrow \\infty}$')\n",
      "show()"
     ],
     "language": "python",
     "metadata": {},
     "outputs": [],
     "prompt_number": 4
    }
   ],
   "metadata": {}
  }
 ]
}